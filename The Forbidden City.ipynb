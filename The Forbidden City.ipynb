{
 "cells": [
  {
   "cell_type": "markdown",
   "id": "a6a22ab6",
   "metadata": {},
   "source": [
    "## Building sites in the Forbidden City\n",
    "* ### 乾清宮 QQG\n",
    "* ### 永壽宮 YSG\n",
    "* ### 養心殿 YXD\n",
    "* ### 太極殿 TJD\n",
    "* ### 重華宮 CHG\n",
    "* ### 頤和軒 YHX\n",
    "* ### 景仁宮 JRG\n",
    "* ### 鐘粹宮 ZCG\n",
    "* ### 養性殿 YXGD\n",
    "* ### 閱是樓 YSL\n",
    "* ### 南庫 NK\n",
    "* ### 咸福宮 XFG\n",
    "* ### 遂初堂 SCT\n",
    "* ### 雨花閣 YHG\n",
    "* ### 茶庫 CK"
   ]
  },
  {
   "cell_type": "code",
   "execution_count": 1,
   "id": "76ff9171",
   "metadata": {},
   "outputs": [],
   "source": [
    "import folium\n",
    "from folium import IFrame\n",
    "from folium.plugins import MiniMap\n",
    "import os\n",
    "import base64\n",
    "from PIL import Image\n",
    "import io\n",
    "\n",
    "from folium.plugins import MousePosition"
   ]
  },
  {
   "cell_type": "code",
   "execution_count": 2,
   "id": "5ff3a849",
   "metadata": {},
   "outputs": [],
   "source": [
    "# picture size deflator\n",
    "def open_resize(file,deflator):     # file name, divider of the size\n",
    "    imgx = Image.open(file)\n",
    "    imgxsize=list(imgx.size)\n",
    "    imgxr = imgx.resize((int(imgxsize[0]/deflator),int(imgxsize[1]/deflator)))\n",
    "    name = str(file)+'_resized'\n",
    "    imgxr.save(name,format = 'PNG')\n",
    "    return base64.b64encode(open(name, 'rb').read()).decode() # input to IFame()"
   ]
  },
  {
   "cell_type": "code",
   "execution_count": 3,
   "id": "522971c3",
   "metadata": {},
   "outputs": [],
   "source": [
    "m= folium.Map(location=[39.9187347324166,116.390689015388],zoom_start=16)"
   ]
  },
  {
   "cell_type": "code",
   "execution_count": 4,
   "id": "7538935a",
   "metadata": {
    "scrolled": false
   },
   "outputs": [
    {
     "data": {
      "text/plain": [
       "<folium.plugins.mouse_position.MousePosition at 0x11a425190>"
      ]
     },
     "execution_count": 4,
     "metadata": {},
     "output_type": "execute_result"
    }
   ],
   "source": [
    "MousePosition().add_to(m)"
   ]
  },
  {
   "cell_type": "code",
   "execution_count": 5,
   "id": "a61cf394",
   "metadata": {},
   "outputs": [
    {
     "data": {
      "text/html": [
       "<div style=\"width:100%;\"><div style=\"position:relative;width:100%;height:0;padding-bottom:60%;\"><span style=\"color:#565656\">Make this Notebook Trusted to load map: File -> Trust Notebook</span><iframe src=\"about:blank\" style=\"position:absolute;width:100%;height:100%;left:0;top:0;border:none !important;\" data-html=%3C%21DOCTYPE%20html%3E%0A%3Chead%3E%20%20%20%20%0A%20%20%20%20%3Cmeta%20http-equiv%3D%22content-type%22%20content%3D%22text/html%3B%20charset%3DUTF-8%22%20/%3E%0A%20%20%20%20%0A%20%20%20%20%20%20%20%20%3Cscript%3E%0A%20%20%20%20%20%20%20%20%20%20%20%20L_NO_TOUCH%20%3D%20false%3B%0A%20%20%20%20%20%20%20%20%20%20%20%20L_DISABLE_3D%20%3D%20false%3B%0A%20%20%20%20%20%20%20%20%3C/script%3E%0A%20%20%20%20%0A%20%20%20%20%3Cstyle%3Ehtml%2C%20body%20%7Bwidth%3A%20100%25%3Bheight%3A%20100%25%3Bmargin%3A%200%3Bpadding%3A%200%3B%7D%3C/style%3E%0A%20%20%20%20%3Cstyle%3E%23map%20%7Bposition%3Aabsolute%3Btop%3A0%3Bbottom%3A0%3Bright%3A0%3Bleft%3A0%3B%7D%3C/style%3E%0A%20%20%20%20%3Cscript%20src%3D%22https%3A//cdn.jsdelivr.net/npm/leaflet%401.6.0/dist/leaflet.js%22%3E%3C/script%3E%0A%20%20%20%20%3Cscript%20src%3D%22https%3A//code.jquery.com/jquery-1.12.4.min.js%22%3E%3C/script%3E%0A%20%20%20%20%3Cscript%20src%3D%22https%3A//maxcdn.bootstrapcdn.com/bootstrap/3.2.0/js/bootstrap.min.js%22%3E%3C/script%3E%0A%20%20%20%20%3Cscript%20src%3D%22https%3A//cdnjs.cloudflare.com/ajax/libs/Leaflet.awesome-markers/2.0.2/leaflet.awesome-markers.js%22%3E%3C/script%3E%0A%20%20%20%20%3Clink%20rel%3D%22stylesheet%22%20href%3D%22https%3A//cdn.jsdelivr.net/npm/leaflet%401.6.0/dist/leaflet.css%22/%3E%0A%20%20%20%20%3Clink%20rel%3D%22stylesheet%22%20href%3D%22https%3A//maxcdn.bootstrapcdn.com/bootstrap/3.2.0/css/bootstrap.min.css%22/%3E%0A%20%20%20%20%3Clink%20rel%3D%22stylesheet%22%20href%3D%22https%3A//maxcdn.bootstrapcdn.com/bootstrap/3.2.0/css/bootstrap-theme.min.css%22/%3E%0A%20%20%20%20%3Clink%20rel%3D%22stylesheet%22%20href%3D%22https%3A//maxcdn.bootstrapcdn.com/font-awesome/4.6.3/css/font-awesome.min.css%22/%3E%0A%20%20%20%20%3Clink%20rel%3D%22stylesheet%22%20href%3D%22https%3A//cdnjs.cloudflare.com/ajax/libs/Leaflet.awesome-markers/2.0.2/leaflet.awesome-markers.css%22/%3E%0A%20%20%20%20%3Clink%20rel%3D%22stylesheet%22%20href%3D%22https%3A//cdn.jsdelivr.net/gh/python-visualization/folium/folium/templates/leaflet.awesome.rotate.min.css%22/%3E%0A%20%20%20%20%0A%20%20%20%20%20%20%20%20%20%20%20%20%3Cmeta%20name%3D%22viewport%22%20content%3D%22width%3Ddevice-width%2C%0A%20%20%20%20%20%20%20%20%20%20%20%20%20%20%20%20initial-scale%3D1.0%2C%20maximum-scale%3D1.0%2C%20user-scalable%3Dno%22%20/%3E%0A%20%20%20%20%20%20%20%20%20%20%20%20%3Cstyle%3E%0A%20%20%20%20%20%20%20%20%20%20%20%20%20%20%20%20%23map_c8d31ef0dd2c4cceb721996cde188dc2%20%7B%0A%20%20%20%20%20%20%20%20%20%20%20%20%20%20%20%20%20%20%20%20position%3A%20relative%3B%0A%20%20%20%20%20%20%20%20%20%20%20%20%20%20%20%20%20%20%20%20width%3A%20100.0%25%3B%0A%20%20%20%20%20%20%20%20%20%20%20%20%20%20%20%20%20%20%20%20height%3A%20100.0%25%3B%0A%20%20%20%20%20%20%20%20%20%20%20%20%20%20%20%20%20%20%20%20left%3A%200.0%25%3B%0A%20%20%20%20%20%20%20%20%20%20%20%20%20%20%20%20%20%20%20%20top%3A%200.0%25%3B%0A%20%20%20%20%20%20%20%20%20%20%20%20%20%20%20%20%7D%0A%20%20%20%20%20%20%20%20%20%20%20%20%3C/style%3E%0A%20%20%20%20%20%20%20%20%0A%20%20%20%20%3Cscript%20src%3D%22https%3A//cdn.jsdelivr.net/gh/ardhi/Leaflet.MousePosition/src/L.Control.MousePosition.min.js%22%3E%3C/script%3E%0A%20%20%20%20%3Clink%20rel%3D%22stylesheet%22%20href%3D%22https%3A//cdn.jsdelivr.net/gh/ardhi/Leaflet.MousePosition/src/L.Control.MousePosition.min.css%22/%3E%0A%20%20%20%20%3Cscript%20src%3D%22https%3A//cdnjs.cloudflare.com/ajax/libs/leaflet-minimap/3.6.1/Control.MiniMap.js%22%3E%3C/script%3E%0A%20%20%20%20%3Clink%20rel%3D%22stylesheet%22%20href%3D%22https%3A//cdnjs.cloudflare.com/ajax/libs/leaflet-minimap/3.6.1/Control.MiniMap.css%22/%3E%0A%3C/head%3E%0A%3Cbody%3E%20%20%20%20%0A%20%20%20%20%0A%20%20%20%20%20%20%20%20%20%20%20%20%3Cdiv%20class%3D%22folium-map%22%20id%3D%22map_c8d31ef0dd2c4cceb721996cde188dc2%22%20%3E%3C/div%3E%0A%20%20%20%20%20%20%20%20%0A%3C/body%3E%0A%3Cscript%3E%20%20%20%20%0A%20%20%20%20%0A%20%20%20%20%20%20%20%20%20%20%20%20var%20map_c8d31ef0dd2c4cceb721996cde188dc2%20%3D%20L.map%28%0A%20%20%20%20%20%20%20%20%20%20%20%20%20%20%20%20%22map_c8d31ef0dd2c4cceb721996cde188dc2%22%2C%0A%20%20%20%20%20%20%20%20%20%20%20%20%20%20%20%20%7B%0A%20%20%20%20%20%20%20%20%20%20%20%20%20%20%20%20%20%20%20%20center%3A%20%5B39.9187347324166%2C%20116.390689015388%5D%2C%0A%20%20%20%20%20%20%20%20%20%20%20%20%20%20%20%20%20%20%20%20crs%3A%20L.CRS.EPSG3857%2C%0A%20%20%20%20%20%20%20%20%20%20%20%20%20%20%20%20%20%20%20%20zoom%3A%2016%2C%0A%20%20%20%20%20%20%20%20%20%20%20%20%20%20%20%20%20%20%20%20zoomControl%3A%20true%2C%0A%20%20%20%20%20%20%20%20%20%20%20%20%20%20%20%20%20%20%20%20preferCanvas%3A%20false%2C%0A%20%20%20%20%20%20%20%20%20%20%20%20%20%20%20%20%7D%0A%20%20%20%20%20%20%20%20%20%20%20%20%29%3B%0A%0A%20%20%20%20%20%20%20%20%20%20%20%20%0A%0A%20%20%20%20%20%20%20%20%0A%20%20%20%20%0A%20%20%20%20%20%20%20%20%20%20%20%20var%20tile_layer_ca95bc7efcf148039da5148fa951d727%20%3D%20L.tileLayer%28%0A%20%20%20%20%20%20%20%20%20%20%20%20%20%20%20%20%22https%3A//%7Bs%7D.tile.openstreetmap.org/%7Bz%7D/%7Bx%7D/%7By%7D.png%22%2C%0A%20%20%20%20%20%20%20%20%20%20%20%20%20%20%20%20%7B%22attribution%22%3A%20%22Data%20by%20%5Cu0026copy%3B%20%5Cu003ca%20href%3D%5C%22http%3A//openstreetmap.org%5C%22%5Cu003eOpenStreetMap%5Cu003c/a%5Cu003e%2C%20under%20%5Cu003ca%20href%3D%5C%22http%3A//www.openstreetmap.org/copyright%5C%22%5Cu003eODbL%5Cu003c/a%5Cu003e.%22%2C%20%22detectRetina%22%3A%20false%2C%20%22maxNativeZoom%22%3A%2018%2C%20%22maxZoom%22%3A%2018%2C%20%22minZoom%22%3A%200%2C%20%22noWrap%22%3A%20false%2C%20%22opacity%22%3A%201%2C%20%22subdomains%22%3A%20%22abc%22%2C%20%22tms%22%3A%20false%7D%0A%20%20%20%20%20%20%20%20%20%20%20%20%29.addTo%28map_c8d31ef0dd2c4cceb721996cde188dc2%29%3B%0A%20%20%20%20%20%20%20%20%0A%20%20%20%20%0A%20%20%20%20%20%20%20%20%20%20%20%20var%20mouse_position_a578526c986b4bd2bbbc769de95de2dd%20%3D%20new%20L.Control.MousePosition%28%0A%20%20%20%20%20%20%20%20%20%20%20%20%20%20%20%20%7B%22emptyString%22%3A%20%22Unavailable%22%2C%20%22lngFirst%22%3A%20false%2C%20%22numDigits%22%3A%205%2C%20%22position%22%3A%20%22bottomright%22%2C%20%22prefix%22%3A%20%22%22%2C%20%22separator%22%3A%20%22%20%3A%20%22%7D%0A%20%20%20%20%20%20%20%20%20%20%20%20%29%3B%0A%20%20%20%20%20%20%20%20%20%20%20%20mouse_position_a578526c986b4bd2bbbc769de95de2dd.options%5B%22latFormatter%22%5D%20%3D%0A%20%20%20%20%20%20%20%20%20%20%20%20%20%20%20%20undefined%3B%0A%20%20%20%20%20%20%20%20%20%20%20%20mouse_position_a578526c986b4bd2bbbc769de95de2dd.options%5B%22lngFormatter%22%5D%20%3D%0A%20%20%20%20%20%20%20%20%20%20%20%20%20%20%20%20undefined%3B%0A%20%20%20%20%20%20%20%20%20%20%20%20map_c8d31ef0dd2c4cceb721996cde188dc2.addControl%28mouse_position_a578526c986b4bd2bbbc769de95de2dd%29%3B%0A%20%20%20%20%20%20%20%20%0A%20%20%20%20%0A%20%20%20%20%20%20%20%20%20%20%20%20var%20tile_layer_655675f8dec54948bc50c188a0dc0e8b%20%3D%20L.tileLayer%28%0A%20%20%20%20%20%20%20%20%20%20%20%20%20%20%20%20%22https%3A//%7Bs%7D.tile.openstreetmap.org/%7Bz%7D/%7Bx%7D/%7By%7D.png%22%2C%0A%20%20%20%20%20%20%20%20%20%20%20%20%20%20%20%20%7B%22attribution%22%3A%20%22Data%20by%20%5Cu0026copy%3B%20%5Cu003ca%20href%3D%5C%22http%3A//openstreetmap.org%5C%22%5Cu003eOpenStreetMap%5Cu003c/a%5Cu003e%2C%20under%20%5Cu003ca%20href%3D%5C%22http%3A//www.openstreetmap.org/copyright%5C%22%5Cu003eODbL%5Cu003c/a%5Cu003e.%22%2C%20%22detectRetina%22%3A%20false%2C%20%22maxNativeZoom%22%3A%2018%2C%20%22maxZoom%22%3A%2018%2C%20%22minZoom%22%3A%200%2C%20%22noWrap%22%3A%20false%2C%20%22opacity%22%3A%201%2C%20%22subdomains%22%3A%20%22abc%22%2C%20%22tms%22%3A%20false%7D%0A%20%20%20%20%20%20%20%20%20%20%20%20%29%3B%0A%20%20%20%20%20%20%20%20%20%20%20%20var%20mini_map_6fa435d8bc2c4e44b2a261e8856fdaf4%20%3D%20new%20L.Control.MiniMap%28%0A%20%20%20%20%20%20%20%20%20%20%20%20%20%20%20%20tile_layer_655675f8dec54948bc50c188a0dc0e8b%2C%0A%20%20%20%20%20%20%20%20%20%20%20%20%20%20%20%20%7B%22autoToggleDisplay%22%3A%20false%2C%20%22centerFixed%22%3A%20false%2C%20%22collapsedHeight%22%3A%2025%2C%20%22collapsedWidth%22%3A%2025%2C%20%22height%22%3A%20150%2C%20%22minimized%22%3A%20false%2C%20%22position%22%3A%20%22bottomright%22%2C%20%22toggleDisplay%22%3A%20false%2C%20%22width%22%3A%20150%2C%20%22zoomAnimation%22%3A%20false%2C%20%22zoomLevelOffset%22%3A%20-5%7D%0A%20%20%20%20%20%20%20%20%20%20%20%20%29%3B%0A%20%20%20%20%20%20%20%20%20%20%20%20map_c8d31ef0dd2c4cceb721996cde188dc2.addControl%28mini_map_6fa435d8bc2c4e44b2a261e8856fdaf4%29%3B%0A%20%20%20%20%20%20%20%20%0A%3C/script%3E onload=\"this.contentDocument.open();this.contentDocument.write(    decodeURIComponent(this.getAttribute('data-html')));this.contentDocument.close();\" allowfullscreen webkitallowfullscreen mozallowfullscreen></iframe></div></div>"
      ],
      "text/plain": [
       "<folium.folium.Map at 0x108843bb0>"
      ]
     },
     "execution_count": 5,
     "metadata": {},
     "output_type": "execute_result"
    }
   ],
   "source": [
    "minimap = MiniMap()\n",
    "m.add_child(minimap)"
   ]
  },
  {
   "cell_type": "markdown",
   "id": "ab7eb066",
   "metadata": {},
   "source": [
    "## Qianqing Gong's collection(QQG)"
   ]
  },
  {
   "cell_type": "code",
   "execution_count": 6,
   "id": "c9260f2d",
   "metadata": {},
   "outputs": [],
   "source": [
    "tooltip_QQG = 'Palace of Heavenly Purity'\n",
    "html_QQG = '''\n",
    "<b>Palace of Heavenly Purity, 乾清宮 Qianqing Gong</b><br><br>\n",
    "Jade001 Grayish-green jade bowl 青灰玉碗<br><br>\n",
    "<img src= \"data:image/png;base64,{}\"><br><br>\n",
    "Jade011 Large ash-green jade plate in the shape of a lotus blossom 花式盤<br><br>\n",
    "<img src= \"data:image/png;base64,{}\"><br><br>\n",
    "Jade012a Bluish-green jade pen-case with ink container 玉墨瓶筆室<br><br>\n",
    "<img src= \"data:image/png;base64,{}\"><br><br>\n",
    "Jade015 Large bluish-green jade lotus flower plate 青綠玉蓮瓣大盤  <br><br>\n",
    "<a href=https://antiquities.npm.gov.tw/Utensils_Page.aspx?ItemId=53661>Museum website</a><br><br>\n",
    "Jade016a Flower-shaped gray jade bowl 青灰花式碗 <br><br>\n",
    "<a href=https://antiquities.npm.gov.tw/Utensils_Page.aspx?ItemId=53643>Museum website</a><br><br>\n",
    "Jade016b Bluish-white jade bowl with two handles 花口花蕾形雙柄碗 <br><br>\n",
    "<a href=https://antiquities.npm.gov.tw/Utensils_Page.aspx?ItemId=52890>Museum website</a><br><br>\n",
    "Jade019 Light grayish-green jade ladle 長柄杓<br><br>\n",
    "<img src= \"data:image/png;base64,{}\"><br><br>\n",
    "Jade024 Flower-shaped bowl with two bud-shaped handles 花口花蕾形雙柄碗<br><br>\n",
    "<img src= \"data:image/png;base64,{}\"><br><br>\n",
    "Jade028 Half-gourd-shaped greed jade cup 痕都斯坦瓜瓣瓢<br><br>\n",
    "<img src= \"data:image/png;base64,{}\"><br><br>\n",
    "Jade035a Large round dark green jade plate 碧玉大圓盤<br><br>\n",
    "<a href=https://antiquities.npm.gov.tw/Utensils_Page.aspx?ItemId=54313>Museum website</a><br><br>\n",
    "Jade041 Green jade plate inlaid with gold wire and colored glass 碧玉金絲盤<br><br>\n",
    "<img src= \"data:image/png;base64,{}\"><br><br>\n",
    "Jade048 Ten-lobed bowl with bud-shaped handles 碧玉雙耳葵辦碗<br><br>\n",
    "<I>Palace Museum, Beijing</I><br><br>\n",
    "Jade070 Rectangular pen-and-ink box with white-jade panels 白玉墨瓶筆室<br><br>\n",
    "<a href=https://antiquities.npm.gov.tw/Utensils_Page.aspx?ItemId=51051>Museum website</a><br><br>\n",
    "'''. format"
   ]
  },
  {
   "cell_type": "code",
   "execution_count": 7,
   "id": "e3653ecf",
   "metadata": {},
   "outputs": [],
   "source": [
    "p_Jade001 = open_resize('Images/QQG/Jade001_NPMT_front.jpg',2.5)\n",
    "p_Jade011 = open_resize('Images/QQG/Jade011_NPMT_interior.jpg',7)\n",
    "p_Jade012a = open_resize('Images/QQG/Jade012_NPMT_case.jpg',7)\n",
    "p_Jade019 = open_resize('Images/QQG/Jade019_NPMT_back.jpg',7)\n",
    "p_Jade024 = open_resize('Images/QQG/Jade024_NPMT_side.jpg',7)\n",
    "p_Jade028 =open_resize('Images/QQG/Jade028_NPMT_interior.jpg',7)\n",
    "p_Jade041 = open_resize('Images/QQG/Jade041_NPMT_interior.jpg',4.5)\n",
    "\n",
    "iframe_QQG = IFrame(html_QQG(p_Jade001,p_Jade011, p_Jade012a, p_Jade019, p_Jade024, p_Jade028, p_Jade041), width=400+20, height=400+20)\n",
    "popup_QQG = folium.Popup(iframe_QQG, max_width=420)\n",
    "icon_QQG= folium.Icon(color=\"red\")"
   ]
  },
  {
   "cell_type": "code",
   "execution_count": 8,
   "id": "a16703db",
   "metadata": {},
   "outputs": [],
   "source": [
    "Marker_QQG= folium.Marker(\n",
    "    location=[39.9187347324166,116.390689015388], \n",
    "    popup=popup_QQG, \n",
    "    tooltip=tooltip_QQG,\n",
    "    icon=icon_QQG\n",
    ").add_to(m)"
   ]
  },
  {
   "cell_type": "markdown",
   "id": "1af322aa",
   "metadata": {},
   "source": [
    "## Yongshou Gong's collection(YSG)"
   ]
  },
  {
   "cell_type": "code",
   "execution_count": 9,
   "id": "5433e06b",
   "metadata": {},
   "outputs": [],
   "source": [
    "tooltip_YSG = 'Palace of Eternal Longevity'\n",
    "html_YSG = '''\n",
    "<b>Palace of Eternal Longevity, 永壽宮 Yongshou Gong</b><br><br>\n",
    "Jade003 Green jade bowl 碧玉碗<br><br>\n",
    "<I>Palace Museum, Beijing</I><br><br>\n",
    "Jade020 White jade bowl with two handles 白玉雙耳碗<br><br>\n",
    "<img src= \"data:image/png;base64,{}\"><br><br>\n",
    "Jade065 Jade flower-shaped bowl with two bud-shaped handles 玉花口花蕾形雙柄碗<br><br>\n",
    "<a href=https://antiquities.npm.gov.tw/Utensils_Page.aspx?ItemId=52084>Museum website</a><br><br>\n",
    "'''. format"
   ]
  },
  {
   "cell_type": "code",
   "execution_count": 10,
   "id": "7f4daaf8",
   "metadata": {},
   "outputs": [],
   "source": [
    "p_Jade020 = open_resize('Images/YSG/Jade020_NPMT_side.jpg',7)\n",
    "\n",
    "iframe_YSG = IFrame(html_YSG(p_Jade020), width=400+20, height=400+20)\n",
    "popup_YSG = folium.Popup(iframe_YSG, max_width=420)\n",
    "icon_YSG= folium.Icon(color=\"red\")"
   ]
  },
  {
   "cell_type": "code",
   "execution_count": 11,
   "id": "95701e3f",
   "metadata": {},
   "outputs": [],
   "source": [
    "Marker_YSG= folium.Marker(\n",
    "    location=[39.918814960619116,116.38956114649773], \n",
    "    popup=popup_YSG, \n",
    "    tooltip=tooltip_YSG,\n",
    "    icon=icon_YSG\n",
    ").add_to(m)"
   ]
  },
  {
   "cell_type": "markdown",
   "id": "e8a6d18b",
   "metadata": {},
   "source": [
    "## Yangxin Dian's collection(YXD)"
   ]
  },
  {
   "cell_type": "code",
   "execution_count": 12,
   "id": "a6bd8fa6",
   "metadata": {},
   "outputs": [],
   "source": [
    "tooltip_YXD = 'Hall of Mental Cultivation'\n",
    "html_YXD = '''\n",
    "<b>Hall of Mental Cultivation, 養心殿 Yangxin Dian</b><br><br>\n",
    "Jade007 Large green jade lobed dish 碧玉葵花式盤<br><br>\n",
    "<I>Palace Museum, Beijing</I><br><br>\n",
    "Jade008 Green jade dish in the shape of a water chestnut 碧玉葵花式盤<br><br>\n",
    "<I>Palace Museum, Beijing</I><br><br>\n",
    "Jade040 Quartz scoop in halved double gourd shape 玉葫蘆形杯<br><br>\n",
    "<a href=https://antiquities.npm.gov.tw/Utensils_Page.aspx?ItemId=53231>Museum website</a><br><br>\n",
    "Jade054 Jade bowl with two bud-shaped handles 平口花蕾形雙柄碗<br><br>\n",
    "<img src= \"data:image/png;base64,{}\"><br><br>\n",
    "Jade056 White jade floral form bowl 白玉花瓣碗<br><br>\n",
    "<I>Palace Museum, Beijing</I><br><br>\n",
    "Jade076 White jade floral form bowl 白玉花瓣碗<br><br>\n",
    "<I>Palace Museum, Beijing</I><br><br>\n",
    "'''. format"
   ]
  },
  {
   "cell_type": "code",
   "execution_count": 13,
   "id": "b0ccc37f",
   "metadata": {},
   "outputs": [],
   "source": [
    "p_Jade054 = open_resize('Images/YXD/Jade054_NPMT_side.jpg',7)\n",
    "\n",
    "iframe_YXD = IFrame(html_YXD(p_Jade054), width=400+20, height=400+20)\n",
    "popup_YXD = folium.Popup(iframe_YXD, max_width=420)\n",
    "icon_YXD= folium.Icon(color=\"red\")"
   ]
  },
  {
   "cell_type": "code",
   "execution_count": 14,
   "id": "459ef9ee",
   "metadata": {},
   "outputs": [],
   "source": [
    "Marker_YXD= folium.Marker(\n",
    "    location=[39.91833513285438,116.38940524309872], \n",
    "    popup=popup_YXD, \n",
    "    tooltip=tooltip_YXD,\n",
    "    icon=icon_YXD\n",
    ").add_to(m)"
   ]
  },
  {
   "cell_type": "markdown",
   "id": "c9c3f017",
   "metadata": {},
   "source": [
    "## Taiji Dian's Collection(TJD)"
   ]
  },
  {
   "cell_type": "code",
   "execution_count": 15,
   "id": "6575bdbc",
   "metadata": {},
   "outputs": [],
   "source": [
    "tooltip_TJD = 'Hall of the Supreme Principle'\n",
    "html_TJD = '''\n",
    "<b>Hall of the Supreme Principle, 太極殿 Taiji Dian</b><br><br>\n",
    "Jade012b Inkwell and pen-case with acanthus leaves 青玉墨瓶筆室<br><br>\n",
    "<I>Palace Museum, Beijing</I><br><br>\n",
    "'''. format"
   ]
  },
  {
   "cell_type": "code",
   "execution_count": 16,
   "id": "c3c6b083",
   "metadata": {},
   "outputs": [],
   "source": [
    "iframe_TJD = IFrame(html_TJD(), width=400+20, height=400+20)\n",
    "popup_TJD = folium.Popup(iframe_TJD, max_width=420)\n",
    "icon_TJD= folium.Icon(color=\"red\")"
   ]
  },
  {
   "cell_type": "code",
   "execution_count": 17,
   "id": "7ad03431",
   "metadata": {},
   "outputs": [],
   "source": [
    "Marker_TJD= folium.Marker(\n",
    "    location=[39.91879747499326,116.38891205191612], \n",
    "    popup=popup_TJD, \n",
    "    tooltip=tooltip_TJD,\n",
    "    icon=icon_TJD\n",
    ").add_to(m)"
   ]
  },
  {
   "cell_type": "markdown",
   "id": "2be5449e",
   "metadata": {},
   "source": [
    "## Chonghua Gong's Collection(CHG)"
   ]
  },
  {
   "cell_type": "code",
   "execution_count": 18,
   "id": "7a9fb6d0",
   "metadata": {},
   "outputs": [],
   "source": [
    "tooltip_CHG = 'Palace of Double Brilliance'\n",
    "html_CHG = '''\n",
    "<b>Palace of Double Brilliance, 重華宮 Chonghua Gong</b><br><br>\n",
    "Jade013 Long-spouted jug with single handle and acanthus leaves 莨苕葉紋長流執壺<br><br>\n",
    "<I>Palace Museum, Beijing</I><br><br>\n",
    "'''. format"
   ]
  },
  {
   "cell_type": "code",
   "execution_count": 19,
   "id": "bca1990b",
   "metadata": {},
   "outputs": [],
   "source": [
    "iframe_CHG = IFrame(html_CHG(), width=400+20, height=400+20)\n",
    "popup_CHG = folium.Popup(iframe_CHG, max_width=420)\n",
    "icon_CHG= folium.Icon(color=\"red\")"
   ]
  },
  {
   "cell_type": "code",
   "execution_count": 20,
   "id": "5b5c6ca3",
   "metadata": {},
   "outputs": [],
   "source": [
    "Marker_CHG= folium.Marker(\n",
    "    location=[39.9203403071505,116.38920709490776], \n",
    "    popup=popup_CHG, \n",
    "    tooltip=tooltip_CHG,\n",
    "    icon=icon_CHG\n",
    ").add_to(m)"
   ]
  },
  {
   "cell_type": "markdown",
   "id": "933a578b",
   "metadata": {},
   "source": [
    "## Yihe Xuan's Collection(YHX)"
   ]
  },
  {
   "cell_type": "code",
   "execution_count": 21,
   "id": "2c9df2f1",
   "metadata": {},
   "outputs": [],
   "source": [
    "tooltip_YHX = 'Bower of Well-nourished'\n",
    "html_YHX = '''\n",
    "<b>Bower of Well-nourished, 頤和軒 Yihe Xuan</b><br><br>\n",
    "Jade021a Jade bowl with two bud-shaped handles 平口花蕾形雙柄碗<br><br>\n",
    "<img src= \"data:image/png;base64,{}\"><br><br>\n",
    "Jade037 White jade washer in the shape of a lotus leaf 白玉荷葉洗<br><br>\n",
    "<I>Palace Museum, Beijing</I><br><br>\n",
    "Jade042 Lobed pale-green jade dish in the shape of a chrysanthemum 青玉菊瓣盤<br><br>\n",
    "<I>Palace Museum, Beijing</I><br><br>\n",
    "Jade071 Pale green jade bowl with flower-shaped handles and double rings 青玉花耳雙環碗<br><br>\n",
    "<I>Palace Museum, Beijing</I><br><br>\n",
    "'''. format"
   ]
  },
  {
   "cell_type": "code",
   "execution_count": 22,
   "id": "6dd5ad83",
   "metadata": {},
   "outputs": [],
   "source": [
    "p_Jade021a = open_resize('Images/YHX/Jade021a_NPMT_side.jpg',7)\n",
    "\n",
    "iframe_YHX = IFrame(html_YHX(p_Jade021a), width=400+20, height=400+20)\n",
    "popup_YHX = folium.Popup(iframe_YHX, max_width=420)\n",
    "icon_YHX= folium.Icon(color=\"red\")"
   ]
  },
  {
   "cell_type": "code",
   "execution_count": 23,
   "id": "5bded171",
   "metadata": {},
   "outputs": [],
   "source": [
    "Marker_YHX= folium.Marker(\n",
    "    location=[39.920199396589226,116.39402702450752], \n",
    "    popup=popup_YHX, \n",
    "    tooltip=tooltip_YHX,\n",
    "    icon=icon_YHX\n",
    ").add_to(m)"
   ]
  },
  {
   "cell_type": "markdown",
   "id": "f22af012",
   "metadata": {},
   "source": [
    "## Jingren Gong's Collection(JRG)"
   ]
  },
  {
   "cell_type": "code",
   "execution_count": 24,
   "id": "5b65ffec",
   "metadata": {},
   "outputs": [],
   "source": [
    "tooltip_JRG = 'Palace of Great Benevolence'\n",
    "html_JRG = '''\n",
    "<b>Palace of Great Benevolence, 景仁宮 Jingren Gong</b><br><br>\n",
    "Jade021b White jade lidded bowl 白玉蓋碗<br><br>\n",
    "<I>Palace Museum, Beijing</I><br><br>\n",
    "'''. format"
   ]
  },
  {
   "cell_type": "code",
   "execution_count": 25,
   "id": "1df1faa3",
   "metadata": {},
   "outputs": [],
   "source": [
    "iframe_JRG = IFrame(html_JRG(), width=400+20, height=400+20)\n",
    "popup_JRG = folium.Popup(iframe_JRG, max_width=420)\n",
    "icon_JRG= folium.Icon(color=\"red\")"
   ]
  },
  {
   "cell_type": "code",
   "execution_count": 26,
   "id": "44eb1a99",
   "metadata": {},
   "outputs": [],
   "source": [
    "Marker_JRG= folium.Marker(\n",
    "    location=[39.91888078881762,116.39174580574], \n",
    "    popup=popup_JRG, \n",
    "    tooltip=tooltip_JRG,\n",
    "    icon=icon_JRG\n",
    ").add_to(m)"
   ]
  },
  {
   "cell_type": "markdown",
   "id": "0131f830",
   "metadata": {},
   "source": [
    "## Zhongcui Gong's collection(ZCG)"
   ]
  },
  {
   "cell_type": "markdown",
   "id": "cf1dfd85",
   "metadata": {},
   "source": [
    "tooltip_ZCG = 'Palace of Accumulated Purity'\n",
    "html_ZCG = '''\n",
    "<b>Palace of Accumulated Purity, 鐘粹宮 Zhongcui Gong</b><br><br>\n",
    "'''. format"
   ]
  },
  {
   "cell_type": "markdown",
   "id": "56b4cbf1",
   "metadata": {},
   "source": [
    "iframe_ZCG = IFrame(html_ZCG(), width=400+20, height=400+20)\n",
    "popup_ZCG = folium.Popup(iframe_ZCG, max_width=420)\n",
    "icon_ZCG= folium.Icon(color=\"red\")"
   ]
  },
  {
   "cell_type": "markdown",
   "id": "45f80965",
   "metadata": {},
   "source": [
    "Marker_ZCG= folium.Marker(\n",
    "    location=[39.919800319849486,116.39171764254569], \n",
    "    popup=popup_ZCG, \n",
    "    tooltip=tooltip_ZCG,\n",
    "    icon=icon_ZCG\n",
    ").add_to(m)"
   ]
  },
  {
   "cell_type": "markdown",
   "id": "0bb12755",
   "metadata": {},
   "source": [
    "## Yangxing Dian's collecion(YXGD)"
   ]
  },
  {
   "cell_type": "code",
   "execution_count": 27,
   "id": "10d84431",
   "metadata": {},
   "outputs": [],
   "source": [
    "tooltip_YXGD = 'Hall of Spritual Cultivation'\n",
    "html_YXGD = '''\n",
    "<b>Hall of Spritual Cultivation, 養性殿 Yangxing Dian</b><br><br>\n",
    "Jade027 Eight-lobed bowl with Flower-Shaped Handles 碧玉多曲碗<br><br>\n",
    "<I>Palace Museum, Beijing</I><br><br>\n",
    "'''. format"
   ]
  },
  {
   "cell_type": "code",
   "execution_count": 28,
   "id": "c12b31e7",
   "metadata": {},
   "outputs": [],
   "source": [
    "iframe_YXGD = IFrame(html_YXGD(p_Jade054), width=400+20, height=400+20)\n",
    "popup_YXGD = folium.Popup(iframe_YXGD, max_width=420)\n",
    "icon_YXGD= folium.Icon(color=\"red\")"
   ]
  },
  {
   "cell_type": "markdown",
   "id": "431da048",
   "metadata": {},
   "source": [
    "#### Jade043 no museum data listed"
   ]
  },
  {
   "cell_type": "code",
   "execution_count": 29,
   "id": "d2faa695",
   "metadata": {},
   "outputs": [],
   "source": [
    "Marker_YXGD= folium.Marker(\n",
    "    location=[39.91945292576828,116.39405652880667], \n",
    "    popup=popup_YXGD, \n",
    "    tooltip=tooltip_YXGD,\n",
    "    icon=icon_YXGD\n",
    ").add_to(m)"
   ]
  },
  {
   "cell_type": "markdown",
   "id": "4c16f994",
   "metadata": {},
   "source": [
    "## Yueshi Lou's collection(YSL)"
   ]
  },
  {
   "cell_type": "code",
   "execution_count": 30,
   "id": "28d71884",
   "metadata": {},
   "outputs": [],
   "source": [
    "tooltip_YSL = 'Hall for Viewing Opera'\n",
    "html_YSL = '''\n",
    "<b>Hall for Viewing Opera, 閱是樓 Yueshi Lou</b><br><br>\n",
    "Jade039 White jade lobed dish in the shape of a chrysanthemum 白玉菊瓣碗<br><br>\n",
    "<I>Palace Museum, Beijing</I><br><br>\n",
    "'''. format"
   ]
  },
  {
   "cell_type": "code",
   "execution_count": 31,
   "id": "648823b9",
   "metadata": {},
   "outputs": [],
   "source": [
    "iframe_YSL = IFrame(html_YSL(), width=400+20, height=400+20)\n",
    "popup_YSL = folium.Popup(iframe_YSL, max_width=420)\n",
    "icon_YSL= folium.Icon(color=\"red\")"
   ]
  },
  {
   "cell_type": "code",
   "execution_count": 32,
   "id": "711834f8",
   "metadata": {},
   "outputs": [],
   "source": [
    "Marker_YSL= folium.Marker(\n",
    "    location=[39.9195187533535,116.39455407857893], \n",
    "    popup=popup_YSL, \n",
    "    tooltip=tooltip_YSL,\n",
    "    icon=icon_YSL\n",
    ").add_to(m)"
   ]
  },
  {
   "cell_type": "markdown",
   "id": "1313b170",
   "metadata": {},
   "source": [
    "## Nanku's collection(NK)"
   ]
  },
  {
   "cell_type": "code",
   "execution_count": 33,
   "id": "b859ea14",
   "metadata": {},
   "outputs": [],
   "source": [
    "tooltip_NK = 'Southern Storage Room'\n",
    "html_NK = '''\n",
    "<b>Southern Storage Room, 南庫 Nanku</b><br><br>\n",
    "Jade047 Oval cup with bud-shaped handles 白玉花蕾耳橢圓杯<br><br>\n",
    "<I>Palace Museum, Beijing</I><br><br>\n",
    "Jade075 Candle holder with acanthus leaves 青玉燭台<br><br>\n",
    "<I>Palace Museum, Beijing</I><br><br>\n",
    "'''. format"
   ]
  },
  {
   "cell_type": "code",
   "execution_count": 34,
   "id": "4da6f930",
   "metadata": {},
   "outputs": [],
   "source": [
    "iframe_NK = IFrame(html_NK(), width=400+20, height=400+20)\n",
    "popup_NK = folium.Popup(iframe_NK, max_width=420)\n",
    "icon_NK= folium.Icon(color=\"red\")"
   ]
  },
  {
   "cell_type": "code",
   "execution_count": 35,
   "id": "d104e135",
   "metadata": {},
   "outputs": [],
   "source": [
    "Marker_NK= folium.Marker(\n",
    "    location=[39.917766843746634,116.3896644115448], \n",
    "    popup=popup_NK, \n",
    "    tooltip=tooltip_NK,\n",
    "    icon=icon_NK\n",
    ").add_to(m)"
   ]
  },
  {
   "cell_type": "markdown",
   "id": "23449ce0",
   "metadata": {},
   "source": [
    "## Xianfu Gong‘s collection(XFG)"
   ]
  },
  {
   "cell_type": "code",
   "execution_count": 36,
   "id": "74374157",
   "metadata": {},
   "outputs": [],
   "source": [
    "tooltip_XFG = 'Palace of Universal Happiness'\n",
    "html_XFG = '''\n",
    "<b>Palace of Universal Happiness, 咸福宮 Xianfu Gong</b><br><br>\n",
    "Jade053 Bowl in the style of a four-petal flower 四瓣花式碗<br><br>\n",
    "<a href=https://antiquities.npm.gov.tw/Utensils_Page.aspx?ItemId=51154>Museum website</a><br><br>\n",
    "'''. format"
   ]
  },
  {
   "cell_type": "code",
   "execution_count": 37,
   "id": "ef6382a5",
   "metadata": {},
   "outputs": [],
   "source": [
    "iframe_XFG = IFrame(html_XFG(), width=400+20, height=400+20)\n",
    "popup_XFG = folium.Popup(iframe_XFG, max_width=420)\n",
    "icon_XFG= folium.Icon(color=\"red\")"
   ]
  },
  {
   "cell_type": "code",
   "execution_count": 38,
   "id": "4fd0a8b9",
   "metadata": {},
   "outputs": [],
   "source": [
    "Marker_XFG= folium.Marker(\n",
    "    location=[39.91971829283455,116.388875842094], \n",
    "    popup=popup_XFG, \n",
    "    tooltip=tooltip_XFG,\n",
    "    icon=icon_XFG\n",
    ").add_to(m)"
   ]
  },
  {
   "cell_type": "markdown",
   "id": "84b52246",
   "metadata": {},
   "source": [
    "## Suichu Tang's collection(SCT)"
   ]
  },
  {
   "cell_type": "markdown",
   "id": "80ab848b",
   "metadata": {},
   "source": [
    "tooltip_SCT = 'Hall of Fulfillment of Original Wishes'\n",
    "html_SCT = '''\n",
    "<b>Hall of Fulfillment of Original Wishes, 遂初堂 Suichu Tang</b><br><br>\n",
    "Jade067 <br><br>\n",
    "<br><br>\n",
    "'''. format"
   ]
  },
  {
   "cell_type": "markdown",
   "id": "2c7540c3",
   "metadata": {},
   "source": [
    "iframe_SCT = IFrame(html_SCT(), width=400+20, height=400+20)\n",
    "popup_SCT = folium.Popup(iframe_SCT, max_width=420)\n",
    "icon_SCT= folium.Icon(color=\"red\")"
   ]
  },
  {
   "cell_type": "markdown",
   "id": "0311eceb",
   "metadata": {},
   "source": [
    "Marker_SCT= folium.Marker(\n",
    "    location=[39.919751463645554,116.39358848333357], \n",
    "    popup=popup_SCT, \n",
    "    tooltip=tooltip_SCT,\n",
    "    icon=icon_SCT\n",
    ").add_to(m)"
   ]
  },
  {
   "cell_type": "markdown",
   "id": "cb903e39",
   "metadata": {},
   "source": [
    "## Yuhua Ge's Collection(YHG)"
   ]
  },
  {
   "cell_type": "code",
   "execution_count": 39,
   "id": "e0a3ff6e",
   "metadata": {},
   "outputs": [],
   "source": [
    "tooltip_YHG = 'Pavillion of Raining Flowers'\n",
    "html_YHG = '''\n",
    "<b>Pavillion of Raining Flowers, 雨花閣 Yuhua Ge</b><br><br>\n",
    "Jade074 Pale green jade bowl with flower-shaped handles and double rings 青玉花耳雙環碗<br><br>\n",
    "<I>Palace Museum, Beijing</I><br><br>\n",
    "'''. format"
   ]
  },
  {
   "cell_type": "code",
   "execution_count": 40,
   "id": "2abfaf8d",
   "metadata": {},
   "outputs": [],
   "source": [
    "iframe_YHG = IFrame(html_YHG(), width=400+20, height=400+20)\n",
    "popup_YHG = folium.Popup(iframe_YHG, max_width=420)\n",
    "icon_YHG= folium.Icon(color=\"red\")"
   ]
  },
  {
   "cell_type": "code",
   "execution_count": 41,
   "id": "cccb00e4",
   "metadata": {},
   "outputs": [],
   "source": [
    "Marker_YHG= folium.Marker(\n",
    "    location=[39.91879130359482,116.38819590210915], \n",
    "    popup=popup_YHG, \n",
    "    tooltip=tooltip_YHG,\n",
    "    icon=icon_YHG\n",
    ").add_to(m)"
   ]
  },
  {
   "cell_type": "markdown",
   "id": "e4e37209",
   "metadata": {},
   "source": [
    "## Chaku's collection(CK)"
   ]
  },
  {
   "cell_type": "code",
   "execution_count": 42,
   "id": "2a799028",
   "metadata": {},
   "outputs": [],
   "source": [
    "tooltip_CK = 'Tea Storeroom'\n",
    "html_CK = '''\n",
    "<b>Tea Storeroom, 茶庫 Chaku</b><br><br>\n",
    "Jade080 White jade bowl 白玉碗<br><br>\n",
    "<I>Palace Museum, Beijing</I><br><br>\n",
    "'''. format"
   ]
  },
  {
   "cell_type": "code",
   "execution_count": 43,
   "id": "54a3c71d",
   "metadata": {},
   "outputs": [],
   "source": [
    "iframe_CK = IFrame(html_CK(), width=400+20, height=400+20)\n",
    "popup_CK = folium.Popup(iframe_CK, max_width=420)\n",
    "icon_CK= folium.Icon(color=\"red\")"
   ]
  },
  {
   "cell_type": "code",
   "execution_count": 44,
   "id": "c8d79968",
   "metadata": {},
   "outputs": [],
   "source": [
    "Marker_CK= folium.Marker(\n",
    "    location=[39.91923281432065,116.39290552586316], \n",
    "    popup=popup_CK, \n",
    "    tooltip=tooltip_CK,\n",
    "    icon=icon_CK\n",
    ").add_to(m)"
   ]
  },
  {
   "cell_type": "code",
   "execution_count": 45,
   "id": "ee2e6867",
   "metadata": {},
   "outputs": [],
   "source": [
    "m. save('index.html')"
   ]
  }
 ],
 "metadata": {
  "kernelspec": {
   "display_name": "Python 3",
   "language": "python",
   "name": "python3"
  },
  "language_info": {
   "codemirror_mode": {
    "name": "ipython",
    "version": 3
   },
   "file_extension": ".py",
   "mimetype": "text/x-python",
   "name": "python",
   "nbconvert_exporter": "python",
   "pygments_lexer": "ipython3",
   "version": "3.8.8"
  }
 },
 "nbformat": 4,
 "nbformat_minor": 5
}
